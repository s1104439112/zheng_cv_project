{
 "cells": [
  {
   "cell_type": "code",
   "execution_count": 9,
   "metadata": {},
   "outputs": [
    {
     "name": "stdout",
     "output_type": "stream",
     "text": [
      "successful\n",
      "1.png\n",
      "12.12\n",
      "2.png\n",
      "2024.jpg\n",
      "64.jpg\n",
      "93-best.pth\n",
      "Untitled.ipynb\n",
      "app.py\n",
      "main.py\n",
      "model\n",
      "src\n",
      "templates\n",
      "test.py\n",
      "utils\n",
      "\n"
     ]
    }
   ],
   "source": [
    "import os\n",
    "import subprocess\n",
    "# import commands\n",
    "# a = os.popen('python test.py --path /home/ouc/Flask/64.jpg')\n",
    "a = os.popen('ls')\n",
    "#(status,a) = commands.getstatusoutput('python test.py --path /home/ouc/Flask/64.jpg')\n",
    "print('successful')\n",
    "print(a.read())"
   ]
  },
  {
   "cell_type": "code",
   "execution_count": 116,
   "metadata": {},
   "outputs": [
    {
     "name": "stdout",
     "output_type": "stream",
     "text": [
      "python test.py --path /home/ouc/Flask/test_img/2024.jpg\n",
      "\n",
      "1\n"
     ]
    }
   ],
   "source": [
    "import subprocess\n",
    "cmd = 'source activate outpainting'\n",
    "path = '/home/ouc/Flask/test_img/2024.jpg'\n",
    "cmd = 'python test.py --path ' + path\n",
    "print(cmd)\n",
    "a = subprocess.Popen(cmd,\n",
    "stdin = subprocess.PIPE,\n",
    "stdout = subprocess.PIPE,\n",
    "stderr = subprocess.PIPE,shell=True,universal_newlines=True)\n",
    "# a.stdin.write('python test.py\\n'.encode('utf-8'))\n",
    "# a.stdin.close()\n",
    "\n",
    "# b=a.stdout.read()\n",
    "# a.stdout.close()\n",
    "# b_err = a.stderr.read()\n",
    "# a.stderr.close()\n",
    "out, err = a.communicate()\n",
    "# print(a)\n",
    "# print(err)\n",
    "print(out)\n",
    "print(1)\n",
    "print(err)\n"
   ]
  },
  {
   "cell_type": "code",
   "execution_count": 43,
   "metadata": {},
   "outputs": [
    {
     "name": "stdout",
     "output_type": "stream",
     "text": [
      "b\"\\nCommandNotFoundError: Your shell has not been properly configured to use 'conda activate'.\\nTo initialize your shell, run\\n\\n    $ conda init <SHELL_NAME>\\n\\nCurrently supported shells are:\\n  - bash\\n  - fish\\n  - tcsh\\n  - xonsh\\n  - zsh\\n  - powershell\\n\\nSee 'conda init --help' for more information and options.\\n\\nIMPORTANT: You may need to close and restart your shell after running 'conda init'.\\n\\n\\n\"\n"
     ]
    }
   ],
   "source": [
    "import subprocess\n",
    "cmd = \"conda activate outpainting\"\n",
    "cmd1 = \"python test.py\"\n",
    "p = subprocess.Popen(cmd, stdout=subprocess.PIPE, stderr=subprocess.PIPE, shell=True)\n",
    "stdout, stderr = p.communicate()\n",
    "print(stderr)"
   ]
  },
  {
   "cell_type": "code",
   "execution_count": 98,
   "metadata": {},
   "outputs": [
    {
     "name": "stdout",
     "output_type": "stream",
     "text": [
      "4\n"
     ]
    }
   ],
   "source": [
    "import numpy as np\n",
    "a = np.zeros((4,2,3))\n",
    "print(a.shape[0])"
   ]
  }
 ],
 "metadata": {
  "kernelspec": {
   "display_name": "python py36pt11",
   "language": "python",
   "name": "py36pt11"
  },
  "language_info": {
   "codemirror_mode": {
    "name": "ipython",
    "version": 3
   },
   "file_extension": ".py",
   "mimetype": "text/x-python",
   "name": "python",
   "nbconvert_exporter": "python",
   "pygments_lexer": "ipython3",
   "version": "3.7.3"
  }
 },
 "nbformat": 4,
 "nbformat_minor": 2
}
